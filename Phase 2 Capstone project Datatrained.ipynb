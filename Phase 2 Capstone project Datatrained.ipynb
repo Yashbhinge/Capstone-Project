{
 "cells": [
  {
   "cell_type": "markdown",
   "id": "3cbfbdf4",
   "metadata": {},
   "source": [
    "# IMDB CAPSTONE PROJECT"
   ]
  },
  {
   "cell_type": "markdown",
   "id": "411ae1b6",
   "metadata": {},
   "source": [
    "# Phase 2"
   ]
  },
  {
   "cell_type": "code",
   "execution_count": 1,
   "id": "4e187a15",
   "metadata": {},
   "outputs": [],
   "source": [
    "import pandas as pd\n",
    "\n",
    "df = pd.read_csv('D:\\Datatrained\\Dataset 1.csv')"
   ]
  },
  {
   "cell_type": "code",
   "execution_count": 2,
   "id": "c7547c8c",
   "metadata": {},
   "outputs": [],
   "source": [
    "df1 = pd.read_csv('D:\\Datatrained\\Dataset 2.csv')"
   ]
  },
  {
   "cell_type": "code",
   "execution_count": 3,
   "id": "081373a7",
   "metadata": {},
   "outputs": [
    {
     "data": {
      "text/html": [
       "<div>\n",
       "<style scoped>\n",
       "    .dataframe tbody tr th:only-of-type {\n",
       "        vertical-align: middle;\n",
       "    }\n",
       "\n",
       "    .dataframe tbody tr th {\n",
       "        vertical-align: top;\n",
       "    }\n",
       "\n",
       "    .dataframe thead th {\n",
       "        text-align: right;\n",
       "    }\n",
       "</style>\n",
       "<table border=\"1\" class=\"dataframe\">\n",
       "  <thead>\n",
       "    <tr style=\"text-align: right;\">\n",
       "      <th></th>\n",
       "      <th>Movie Name</th>\n",
       "      <th>Director Name</th>\n",
       "      <th>Duration</th>\n",
       "      <th>Year</th>\n",
       "      <th>Rating</th>\n",
       "      <th>Metascore</th>\n",
       "    </tr>\n",
       "  </thead>\n",
       "  <tbody>\n",
       "    <tr>\n",
       "      <th>0</th>\n",
       "      <td>The Dark Knight</td>\n",
       "      <td>Christopher Nolan</td>\n",
       "      <td>152 min</td>\n",
       "      <td>2008</td>\n",
       "      <td>9.0</td>\n",
       "      <td>84.0</td>\n",
       "    </tr>\n",
       "    <tr>\n",
       "      <th>1</th>\n",
       "      <td>The Lord of the Rings: The Return of the King</td>\n",
       "      <td>Peter Jackson</td>\n",
       "      <td>201 min</td>\n",
       "      <td>2003</td>\n",
       "      <td>9.0</td>\n",
       "      <td>94.0</td>\n",
       "    </tr>\n",
       "    <tr>\n",
       "      <th>2</th>\n",
       "      <td>Spider-Man: Across the Spider-Verse</td>\n",
       "      <td>Joaquim Dos Santos</td>\n",
       "      <td>140 min</td>\n",
       "      <td>2023</td>\n",
       "      <td>8.9</td>\n",
       "      <td>86.0</td>\n",
       "    </tr>\n",
       "    <tr>\n",
       "      <th>3</th>\n",
       "      <td>Inception</td>\n",
       "      <td>Christopher Nolan</td>\n",
       "      <td>148 min</td>\n",
       "      <td>2010</td>\n",
       "      <td>8.8</td>\n",
       "      <td>74.0</td>\n",
       "    </tr>\n",
       "    <tr>\n",
       "      <th>4</th>\n",
       "      <td>The Lord of the Rings: The Fellowship of the Ring</td>\n",
       "      <td>Peter Jackson</td>\n",
       "      <td>178 min</td>\n",
       "      <td>2001</td>\n",
       "      <td>8.8</td>\n",
       "      <td>92.0</td>\n",
       "    </tr>\n",
       "  </tbody>\n",
       "</table>\n",
       "</div>"
      ],
      "text/plain": [
       "                                          Movie Name       Director Name  \\\n",
       "0                                    The Dark Knight   Christopher Nolan   \n",
       "1      The Lord of the Rings: The Return of the King       Peter Jackson   \n",
       "2                Spider-Man: Across the Spider-Verse  Joaquim Dos Santos   \n",
       "3                                          Inception   Christopher Nolan   \n",
       "4  The Lord of the Rings: The Fellowship of the Ring       Peter Jackson   \n",
       "\n",
       "  Duration  Year  Rating  Metascore  \n",
       "0  152 min  2008     9.0       84.0  \n",
       "1  201 min  2003     9.0       94.0  \n",
       "2  140 min  2023     8.9       86.0  \n",
       "3  148 min  2010     8.8       74.0  \n",
       "4  178 min  2001     8.8       92.0  "
      ]
     },
     "execution_count": 3,
     "metadata": {},
     "output_type": "execute_result"
    }
   ],
   "source": [
    "df.head()"
   ]
  },
  {
   "cell_type": "code",
   "execution_count": 4,
   "id": "fa2306c5",
   "metadata": {},
   "outputs": [
    {
     "data": {
      "text/html": [
       "<div>\n",
       "<style scoped>\n",
       "    .dataframe tbody tr th:only-of-type {\n",
       "        vertical-align: middle;\n",
       "    }\n",
       "\n",
       "    .dataframe tbody tr th {\n",
       "        vertical-align: top;\n",
       "    }\n",
       "\n",
       "    .dataframe thead th {\n",
       "        text-align: right;\n",
       "    }\n",
       "</style>\n",
       "<table border=\"1\" class=\"dataframe\">\n",
       "  <thead>\n",
       "    <tr style=\"text-align: right;\">\n",
       "      <th></th>\n",
       "      <th>Movie Name</th>\n",
       "      <th>Votes</th>\n",
       "      <th>Gross Collection</th>\n",
       "      <th>Certification</th>\n",
       "      <th>Star1</th>\n",
       "      <th>Star2</th>\n",
       "      <th>Star3</th>\n",
       "      <th>Star4</th>\n",
       "      <th>Genre1</th>\n",
       "      <th>Genre2</th>\n",
       "      <th>Genre3</th>\n",
       "    </tr>\n",
       "  </thead>\n",
       "  <tbody>\n",
       "    <tr>\n",
       "      <th>0</th>\n",
       "      <td>The Dark Knight</td>\n",
       "      <td>2750867</td>\n",
       "      <td>$534.86M</td>\n",
       "      <td>PG-13</td>\n",
       "      <td>Christian Bale</td>\n",
       "      <td>Heath Ledger</td>\n",
       "      <td>Aaron Eckhart</td>\n",
       "      <td>Michael Caine</td>\n",
       "      <td>Action</td>\n",
       "      <td>Crime</td>\n",
       "      <td>Drama</td>\n",
       "    </tr>\n",
       "    <tr>\n",
       "      <th>1</th>\n",
       "      <td>The Lord of the Rings: The Return of the King</td>\n",
       "      <td>1902861</td>\n",
       "      <td>$377.85M</td>\n",
       "      <td>PG-13</td>\n",
       "      <td>Elijah Wood</td>\n",
       "      <td>Viggo Mortensen</td>\n",
       "      <td>Ian McKellen</td>\n",
       "      <td>Orlando Bloom</td>\n",
       "      <td>Action</td>\n",
       "      <td>Adventure</td>\n",
       "      <td>Drama</td>\n",
       "    </tr>\n",
       "    <tr>\n",
       "      <th>2</th>\n",
       "      <td>Spider-Man: Across the Spider-Verse</td>\n",
       "      <td>195285</td>\n",
       "      <td>NaN</td>\n",
       "      <td>PG</td>\n",
       "      <td>Kemp Powers</td>\n",
       "      <td>Justin K. Thompson</td>\n",
       "      <td>Shameik Moore</td>\n",
       "      <td>Hailee Steinfeld</td>\n",
       "      <td>Animation</td>\n",
       "      <td>Action</td>\n",
       "      <td>Adventure</td>\n",
       "    </tr>\n",
       "    <tr>\n",
       "      <th>3</th>\n",
       "      <td>Inception</td>\n",
       "      <td>2441653</td>\n",
       "      <td>$292.58M</td>\n",
       "      <td>PG-13</td>\n",
       "      <td>Leonardo DiCaprio</td>\n",
       "      <td>Joseph Gordon-Levitt</td>\n",
       "      <td>Elliot Page</td>\n",
       "      <td>Ken Watanabe</td>\n",
       "      <td>Action</td>\n",
       "      <td>Adventure</td>\n",
       "      <td>Sci-Fi</td>\n",
       "    </tr>\n",
       "    <tr>\n",
       "      <th>4</th>\n",
       "      <td>The Lord of the Rings: The Fellowship of the Ring</td>\n",
       "      <td>1931145</td>\n",
       "      <td>$315.54M</td>\n",
       "      <td>PG-13</td>\n",
       "      <td>Elijah Wood</td>\n",
       "      <td>Ian McKellen</td>\n",
       "      <td>Orlando Bloom</td>\n",
       "      <td>Sean Bean</td>\n",
       "      <td>Action</td>\n",
       "      <td>Adventure</td>\n",
       "      <td>Drama</td>\n",
       "    </tr>\n",
       "  </tbody>\n",
       "</table>\n",
       "</div>"
      ],
      "text/plain": [
       "                                          Movie Name    Votes  \\\n",
       "0                                    The Dark Knight  2750867   \n",
       "1      The Lord of the Rings: The Return of the King  1902861   \n",
       "2                Spider-Man: Across the Spider-Verse   195285   \n",
       "3                                          Inception  2441653   \n",
       "4  The Lord of the Rings: The Fellowship of the Ring  1931145   \n",
       "\n",
       "  Gross Collection Certification              Star1                 Star2  \\\n",
       "0         $534.86M         PG-13     Christian Bale          Heath Ledger   \n",
       "1         $377.85M         PG-13        Elijah Wood       Viggo Mortensen   \n",
       "2              NaN            PG        Kemp Powers    Justin K. Thompson   \n",
       "3         $292.58M         PG-13  Leonardo DiCaprio  Joseph Gordon-Levitt   \n",
       "4         $315.54M         PG-13        Elijah Wood          Ian McKellen   \n",
       "\n",
       "           Star3             Star4     Genre1     Genre2     Genre3  \n",
       "0  Aaron Eckhart     Michael Caine     Action      Crime      Drama  \n",
       "1   Ian McKellen     Orlando Bloom     Action  Adventure      Drama  \n",
       "2  Shameik Moore  Hailee Steinfeld  Animation     Action  Adventure  \n",
       "3    Elliot Page      Ken Watanabe     Action  Adventure     Sci-Fi  \n",
       "4  Orlando Bloom         Sean Bean     Action  Adventure      Drama  "
      ]
     },
     "execution_count": 4,
     "metadata": {},
     "output_type": "execute_result"
    }
   ],
   "source": [
    "df1.head()"
   ]
  },
  {
   "cell_type": "markdown",
   "id": "43587cb8",
   "metadata": {},
   "source": [
    "# Table 1"
   ]
  },
  {
   "cell_type": "markdown",
   "id": "6c517f6a",
   "metadata": {},
   "source": [
    "1)  Display all the details of movies created by directors Christopher and Matt Reeves."
   ]
  },
  {
   "cell_type": "code",
   "execution_count": 5,
   "id": "2822d281",
   "metadata": {},
   "outputs": [
    {
     "name": "stdout",
     "output_type": "stream",
     "text": [
      "                         Movie Name      Director Name Duration  Year  Rating  \\\n",
      "0                   The Dark Knight  Christopher Nolan  152 min  2008     9.0   \n",
      "3                         Inception  Christopher Nolan  148 min  2010     8.8   \n",
      "18            The Dark Knight Rises  Christopher Nolan  164 min  2012     8.4   \n",
      "38                    Batman Begins  Christopher Nolan  140 min  2005     8.2   \n",
      "130                         Dunkirk  Christopher Nolan  106 min  2017     7.8   \n",
      "131                      The Batman        Matt Reeves  176 min  2022     7.8   \n",
      "227  Dawn of the Planet of the Apes        Matt Reeves  130 min  2014     7.6   \n",
      "312  War for the Planet of the Apes        Matt Reeves  140 min  2017     7.4   \n",
      "324                           Tenet  Christopher Nolan  150 min  2020     7.3   \n",
      "516                     Cloverfield        Matt Reeves   85 min  2008     7.0   \n",
      "\n",
      "     Metascore  \n",
      "0         84.0  \n",
      "3         74.0  \n",
      "18        78.0  \n",
      "38        70.0  \n",
      "130       94.0  \n",
      "131       72.0  \n",
      "227       79.0  \n",
      "312       82.0  \n",
      "324       69.0  \n",
      "516       64.0  \n"
     ]
    }
   ],
   "source": [
    "directors_df = df[df['Director Name'].isin(['Christopher Nolan', 'Matt Reeves'])]\n",
    "\n",
    "print(directors_df)"
   ]
  },
  {
   "cell_type": "code",
   "execution_count": 6,
   "id": "811266d1",
   "metadata": {},
   "outputs": [
    {
     "data": {
      "text/html": [
       "<div>\n",
       "<style scoped>\n",
       "    .dataframe tbody tr th:only-of-type {\n",
       "        vertical-align: middle;\n",
       "    }\n",
       "\n",
       "    .dataframe tbody tr th {\n",
       "        vertical-align: top;\n",
       "    }\n",
       "\n",
       "    .dataframe thead th {\n",
       "        text-align: right;\n",
       "    }\n",
       "</style>\n",
       "<table border=\"1\" class=\"dataframe\">\n",
       "  <thead>\n",
       "    <tr style=\"text-align: right;\">\n",
       "      <th></th>\n",
       "      <th>Movie Name</th>\n",
       "      <th>Director Name</th>\n",
       "      <th>Duration</th>\n",
       "      <th>Year</th>\n",
       "      <th>Rating</th>\n",
       "      <th>Metascore</th>\n",
       "    </tr>\n",
       "  </thead>\n",
       "  <tbody>\n",
       "    <tr>\n",
       "      <th>0</th>\n",
       "      <td>The Dark Knight</td>\n",
       "      <td>Christopher Nolan</td>\n",
       "      <td>152 min</td>\n",
       "      <td>2008</td>\n",
       "      <td>9.0</td>\n",
       "      <td>84.0</td>\n",
       "    </tr>\n",
       "    <tr>\n",
       "      <th>3</th>\n",
       "      <td>Inception</td>\n",
       "      <td>Christopher Nolan</td>\n",
       "      <td>148 min</td>\n",
       "      <td>2010</td>\n",
       "      <td>8.8</td>\n",
       "      <td>74.0</td>\n",
       "    </tr>\n",
       "    <tr>\n",
       "      <th>18</th>\n",
       "      <td>The Dark Knight Rises</td>\n",
       "      <td>Christopher Nolan</td>\n",
       "      <td>164 min</td>\n",
       "      <td>2012</td>\n",
       "      <td>8.4</td>\n",
       "      <td>78.0</td>\n",
       "    </tr>\n",
       "    <tr>\n",
       "      <th>38</th>\n",
       "      <td>Batman Begins</td>\n",
       "      <td>Christopher Nolan</td>\n",
       "      <td>140 min</td>\n",
       "      <td>2005</td>\n",
       "      <td>8.2</td>\n",
       "      <td>70.0</td>\n",
       "    </tr>\n",
       "    <tr>\n",
       "      <th>130</th>\n",
       "      <td>Dunkirk</td>\n",
       "      <td>Christopher Nolan</td>\n",
       "      <td>106 min</td>\n",
       "      <td>2017</td>\n",
       "      <td>7.8</td>\n",
       "      <td>94.0</td>\n",
       "    </tr>\n",
       "  </tbody>\n",
       "</table>\n",
       "</div>"
      ],
      "text/plain": [
       "                Movie Name      Director Name Duration  Year  Rating  \\\n",
       "0          The Dark Knight  Christopher Nolan  152 min  2008     9.0   \n",
       "3                Inception  Christopher Nolan  148 min  2010     8.8   \n",
       "18   The Dark Knight Rises  Christopher Nolan  164 min  2012     8.4   \n",
       "38           Batman Begins  Christopher Nolan  140 min  2005     8.2   \n",
       "130                Dunkirk  Christopher Nolan  106 min  2017     7.8   \n",
       "\n",
       "     Metascore  \n",
       "0         84.0  \n",
       "3         74.0  \n",
       "18        78.0  \n",
       "38        70.0  \n",
       "130       94.0  "
      ]
     },
     "execution_count": 6,
     "metadata": {},
     "output_type": "execute_result"
    }
   ],
   "source": [
    "directors_df.head()"
   ]
  },
  {
   "cell_type": "markdown",
   "id": "92531c7b",
   "metadata": {},
   "source": [
    "2) Display all the details of movies with a duration of 140 minutes to 190 minutes."
   ]
  },
  {
   "cell_type": "code",
   "execution_count": 7,
   "id": "d0306ce0",
   "metadata": {},
   "outputs": [
    {
     "name": "stdout",
     "output_type": "stream",
     "text": [
      "                                             Movie Name       Director Name  \\\n",
      "0                                       The Dark Knight   Christopher Nolan   \n",
      "2                   Spider-Man: Across the Spider-Verse  Joaquim Dos Santos   \n",
      "3                                             Inception   Christopher Nolan   \n",
      "4     The Lord of the Rings: The Fellowship of the Ring       Peter Jackson   \n",
      "5                 The Lord of the Rings: The Two Towers       Peter Jackson   \n",
      "...                                                 ...                 ...   \n",
      "1758                                              Liger      Puri Jagannadh   \n",
      "1759                                             Gunday     Ali Abbas Zafar   \n",
      "1762                                        Heropanti 2          Ahmed Khan   \n",
      "1763                                             Laxmii    Raghava Lawrence   \n",
      "1768                                             Race 3        Remo D'Souza   \n",
      "\n",
      "      Duration  Year  Rating  Metascore  \n",
      "0          152  2008     9.0       84.0  \n",
      "2          140  2023     8.9       86.0  \n",
      "3          148  2010     8.8       74.0  \n",
      "4          178  2001     8.8       92.0  \n",
      "5          179  2002     8.8       87.0  \n",
      "...        ...   ...     ...        ...  \n",
      "1758       140  2022     2.7        NaN  \n",
      "1759       152  2014     2.7        NaN  \n",
      "1762       145  2022     2.5        NaN  \n",
      "1763       141  2020     2.5        NaN  \n",
      "1768       160  2018     1.9        NaN  \n",
      "\n",
      "[209 rows x 6 columns]\n"
     ]
    }
   ],
   "source": [
    "# Extract the numerical values from the 'Duration' column and convert it to integer\n",
    "df['Duration'] = df['Duration'].str.extract(r'(\\d+)').astype(int)\n",
    "\n",
    "# Filter the DataFrame to include only rows where the Duration is between 140 and 190 minutes\n",
    "duration_df = df[(df['Duration'] >= 140) & (df['Duration'] <= 190)]\n",
    "\n",
    "print(duration_df)"
   ]
  },
  {
   "cell_type": "code",
   "execution_count": 8,
   "id": "5369cea4",
   "metadata": {},
   "outputs": [
    {
     "data": {
      "text/html": [
       "<div>\n",
       "<style scoped>\n",
       "    .dataframe tbody tr th:only-of-type {\n",
       "        vertical-align: middle;\n",
       "    }\n",
       "\n",
       "    .dataframe tbody tr th {\n",
       "        vertical-align: top;\n",
       "    }\n",
       "\n",
       "    .dataframe thead th {\n",
       "        text-align: right;\n",
       "    }\n",
       "</style>\n",
       "<table border=\"1\" class=\"dataframe\">\n",
       "  <thead>\n",
       "    <tr style=\"text-align: right;\">\n",
       "      <th></th>\n",
       "      <th>Movie Name</th>\n",
       "      <th>Director Name</th>\n",
       "      <th>Duration</th>\n",
       "      <th>Year</th>\n",
       "      <th>Rating</th>\n",
       "      <th>Metascore</th>\n",
       "    </tr>\n",
       "  </thead>\n",
       "  <tbody>\n",
       "    <tr>\n",
       "      <th>0</th>\n",
       "      <td>The Dark Knight</td>\n",
       "      <td>Christopher Nolan</td>\n",
       "      <td>152</td>\n",
       "      <td>2008</td>\n",
       "      <td>9.0</td>\n",
       "      <td>84.0</td>\n",
       "    </tr>\n",
       "    <tr>\n",
       "      <th>2</th>\n",
       "      <td>Spider-Man: Across the Spider-Verse</td>\n",
       "      <td>Joaquim Dos Santos</td>\n",
       "      <td>140</td>\n",
       "      <td>2023</td>\n",
       "      <td>8.9</td>\n",
       "      <td>86.0</td>\n",
       "    </tr>\n",
       "    <tr>\n",
       "      <th>3</th>\n",
       "      <td>Inception</td>\n",
       "      <td>Christopher Nolan</td>\n",
       "      <td>148</td>\n",
       "      <td>2010</td>\n",
       "      <td>8.8</td>\n",
       "      <td>74.0</td>\n",
       "    </tr>\n",
       "    <tr>\n",
       "      <th>4</th>\n",
       "      <td>The Lord of the Rings: The Fellowship of the Ring</td>\n",
       "      <td>Peter Jackson</td>\n",
       "      <td>178</td>\n",
       "      <td>2001</td>\n",
       "      <td>8.8</td>\n",
       "      <td>92.0</td>\n",
       "    </tr>\n",
       "    <tr>\n",
       "      <th>5</th>\n",
       "      <td>The Lord of the Rings: The Two Towers</td>\n",
       "      <td>Peter Jackson</td>\n",
       "      <td>179</td>\n",
       "      <td>2002</td>\n",
       "      <td>8.8</td>\n",
       "      <td>87.0</td>\n",
       "    </tr>\n",
       "  </tbody>\n",
       "</table>\n",
       "</div>"
      ],
      "text/plain": [
       "                                          Movie Name       Director Name  \\\n",
       "0                                    The Dark Knight   Christopher Nolan   \n",
       "2                Spider-Man: Across the Spider-Verse  Joaquim Dos Santos   \n",
       "3                                          Inception   Christopher Nolan   \n",
       "4  The Lord of the Rings: The Fellowship of the Ring       Peter Jackson   \n",
       "5              The Lord of the Rings: The Two Towers       Peter Jackson   \n",
       "\n",
       "   Duration  Year  Rating  Metascore  \n",
       "0       152  2008     9.0       84.0  \n",
       "2       140  2023     8.9       86.0  \n",
       "3       148  2010     8.8       74.0  \n",
       "4       178  2001     8.8       92.0  \n",
       "5       179  2002     8.8       87.0  "
      ]
     },
     "execution_count": 8,
     "metadata": {},
     "output_type": "execute_result"
    }
   ],
   "source": [
    "duration_df.head()"
   ]
  },
  {
   "cell_type": "markdown",
   "id": "9fcea5e6",
   "metadata": {},
   "source": [
    "3) Display all details of movies with ratings above 7 in ascending order."
   ]
  },
  {
   "cell_type": "code",
   "execution_count": 9,
   "id": "f22effea",
   "metadata": {},
   "outputs": [
    {
     "name": "stdout",
     "output_type": "stream",
     "text": [
      "                                            Movie Name       Director Name  \\\n",
      "494                                         Marighella        Wagner Moura   \n",
      "460                                         Real Steel          Shawn Levy   \n",
      "459                                           I, Robot         Alex Proyas   \n",
      "458                                  Deepwater Horizon          Peter Berg   \n",
      "457                                           Creed II    Steven Caple Jr.   \n",
      "..                                                 ...                 ...   \n",
      "4    The Lord of the Rings: The Fellowship of the Ring       Peter Jackson   \n",
      "3                                            Inception   Christopher Nolan   \n",
      "2                  Spider-Man: Across the Spider-Verse  Joaquim Dos Santos   \n",
      "1        The Lord of the Rings: The Return of the King       Peter Jackson   \n",
      "0                                      The Dark Knight   Christopher Nolan   \n",
      "\n",
      "     Duration  Year  Rating  Metascore  \n",
      "494       155  2019     7.1        NaN  \n",
      "460       127  2011     7.1       56.0  \n",
      "459       115  2004     7.1       59.0  \n",
      "458       107  2016     7.1       68.0  \n",
      "457       130  2018     7.1       66.0  \n",
      "..        ...   ...     ...        ...  \n",
      "4         178  2001     8.8       92.0  \n",
      "3         148  2010     8.8       74.0  \n",
      "2         140  2023     8.9       86.0  \n",
      "1         201  2003     9.0       94.0  \n",
      "0         152  2008     9.0       84.0  \n",
      "\n",
      "[495 rows x 6 columns]\n"
     ]
    }
   ],
   "source": [
    "# Filter the DataFrame to include only rows where the rating is above 7\n",
    "high_rated_movies_df = df[df['Rating'] > 7]\n",
    "\n",
    "# Sort the DataFrame by the \"Rating\" column in ascending order\n",
    "high_rated_movies_df = high_rated_movies_df.sort_values(by='Rating', ascending=True)\n",
    "\n",
    "print(high_rated_movies_df)"
   ]
  },
  {
   "cell_type": "code",
   "execution_count": 10,
   "id": "9231a895",
   "metadata": {},
   "outputs": [
    {
     "data": {
      "text/html": [
       "<div>\n",
       "<style scoped>\n",
       "    .dataframe tbody tr th:only-of-type {\n",
       "        vertical-align: middle;\n",
       "    }\n",
       "\n",
       "    .dataframe tbody tr th {\n",
       "        vertical-align: top;\n",
       "    }\n",
       "\n",
       "    .dataframe thead th {\n",
       "        text-align: right;\n",
       "    }\n",
       "</style>\n",
       "<table border=\"1\" class=\"dataframe\">\n",
       "  <thead>\n",
       "    <tr style=\"text-align: right;\">\n",
       "      <th></th>\n",
       "      <th>Movie Name</th>\n",
       "      <th>Director Name</th>\n",
       "      <th>Duration</th>\n",
       "      <th>Year</th>\n",
       "      <th>Rating</th>\n",
       "      <th>Metascore</th>\n",
       "    </tr>\n",
       "  </thead>\n",
       "  <tbody>\n",
       "    <tr>\n",
       "      <th>494</th>\n",
       "      <td>Marighella</td>\n",
       "      <td>Wagner Moura</td>\n",
       "      <td>155</td>\n",
       "      <td>2019</td>\n",
       "      <td>7.1</td>\n",
       "      <td>NaN</td>\n",
       "    </tr>\n",
       "    <tr>\n",
       "      <th>460</th>\n",
       "      <td>Real Steel</td>\n",
       "      <td>Shawn Levy</td>\n",
       "      <td>127</td>\n",
       "      <td>2011</td>\n",
       "      <td>7.1</td>\n",
       "      <td>56.0</td>\n",
       "    </tr>\n",
       "    <tr>\n",
       "      <th>459</th>\n",
       "      <td>I, Robot</td>\n",
       "      <td>Alex Proyas</td>\n",
       "      <td>115</td>\n",
       "      <td>2004</td>\n",
       "      <td>7.1</td>\n",
       "      <td>59.0</td>\n",
       "    </tr>\n",
       "    <tr>\n",
       "      <th>458</th>\n",
       "      <td>Deepwater Horizon</td>\n",
       "      <td>Peter Berg</td>\n",
       "      <td>107</td>\n",
       "      <td>2016</td>\n",
       "      <td>7.1</td>\n",
       "      <td>68.0</td>\n",
       "    </tr>\n",
       "    <tr>\n",
       "      <th>457</th>\n",
       "      <td>Creed II</td>\n",
       "      <td>Steven Caple Jr.</td>\n",
       "      <td>130</td>\n",
       "      <td>2018</td>\n",
       "      <td>7.1</td>\n",
       "      <td>66.0</td>\n",
       "    </tr>\n",
       "  </tbody>\n",
       "</table>\n",
       "</div>"
      ],
      "text/plain": [
       "            Movie Name     Director Name  Duration  Year  Rating  Metascore\n",
       "494         Marighella      Wagner Moura       155  2019     7.1        NaN\n",
       "460         Real Steel        Shawn Levy       127  2011     7.1       56.0\n",
       "459           I, Robot       Alex Proyas       115  2004     7.1       59.0\n",
       "458  Deepwater Horizon        Peter Berg       107  2016     7.1       68.0\n",
       "457           Creed II  Steven Caple Jr.       130  2018     7.1       66.0"
      ]
     },
     "execution_count": 10,
     "metadata": {},
     "output_type": "execute_result"
    }
   ],
   "source": [
    "high_rated_movies_df.head()"
   ]
  },
  {
   "cell_type": "markdown",
   "id": "d271050c",
   "metadata": {},
   "source": [
    "4) Display all movie names in descending order."
   ]
  },
  {
   "cell_type": "code",
   "execution_count": 11,
   "id": "7c8355b2",
   "metadata": {},
   "outputs": [
    {
     "name": "stdout",
     "output_type": "stream",
     "text": [
      "1584                      Æon Flux\n",
      "1719       xXx: State of the Union\n",
      "1633    xXx: Return of Xander Cage\n",
      "1394                           xXx\n",
      "1699                   Zoolander 2\n",
      "                   ...            \n",
      "865                      12 Strong\n",
      "1518                     12 Rounds\n",
      "1654                     10,000 BC\n",
      "426                            '71\n",
      "1044                        #Alive\n",
      "Name: Movie Name, Length: 1772, dtype: object\n"
     ]
    }
   ],
   "source": [
    "# Sort the DataFrame by the \"Movie Name\" column in descending order\n",
    "sorted_df = df.sort_values(by='Movie Name', ascending=False)\n",
    "\n",
    "print(sorted_df['Movie Name'])"
   ]
  },
  {
   "cell_type": "code",
   "execution_count": 12,
   "id": "f0252e59",
   "metadata": {},
   "outputs": [
    {
     "data": {
      "text/html": [
       "<div>\n",
       "<style scoped>\n",
       "    .dataframe tbody tr th:only-of-type {\n",
       "        vertical-align: middle;\n",
       "    }\n",
       "\n",
       "    .dataframe tbody tr th {\n",
       "        vertical-align: top;\n",
       "    }\n",
       "\n",
       "    .dataframe thead th {\n",
       "        text-align: right;\n",
       "    }\n",
       "</style>\n",
       "<table border=\"1\" class=\"dataframe\">\n",
       "  <thead>\n",
       "    <tr style=\"text-align: right;\">\n",
       "      <th></th>\n",
       "      <th>Movie Name</th>\n",
       "      <th>Director Name</th>\n",
       "      <th>Duration</th>\n",
       "      <th>Year</th>\n",
       "      <th>Rating</th>\n",
       "      <th>Metascore</th>\n",
       "    </tr>\n",
       "  </thead>\n",
       "  <tbody>\n",
       "    <tr>\n",
       "      <th>1584</th>\n",
       "      <td>Æon Flux</td>\n",
       "      <td>Karyn Kusama</td>\n",
       "      <td>93</td>\n",
       "      <td>2005</td>\n",
       "      <td>5.4</td>\n",
       "      <td>36.0</td>\n",
       "    </tr>\n",
       "    <tr>\n",
       "      <th>1719</th>\n",
       "      <td>xXx: State of the Union</td>\n",
       "      <td>Lee Tamahori</td>\n",
       "      <td>101</td>\n",
       "      <td>2005</td>\n",
       "      <td>4.5</td>\n",
       "      <td>37.0</td>\n",
       "    </tr>\n",
       "    <tr>\n",
       "      <th>1633</th>\n",
       "      <td>xXx: Return of Xander Cage</td>\n",
       "      <td>D.J. Caruso</td>\n",
       "      <td>107</td>\n",
       "      <td>2017</td>\n",
       "      <td>5.2</td>\n",
       "      <td>42.0</td>\n",
       "    </tr>\n",
       "    <tr>\n",
       "      <th>1394</th>\n",
       "      <td>xXx</td>\n",
       "      <td>Rob Cohen</td>\n",
       "      <td>124</td>\n",
       "      <td>2002</td>\n",
       "      <td>5.8</td>\n",
       "      <td>48.0</td>\n",
       "    </tr>\n",
       "    <tr>\n",
       "      <th>1699</th>\n",
       "      <td>Zoolander 2</td>\n",
       "      <td>Ben Stiller</td>\n",
       "      <td>101</td>\n",
       "      <td>2016</td>\n",
       "      <td>4.7</td>\n",
       "      <td>34.0</td>\n",
       "    </tr>\n",
       "  </tbody>\n",
       "</table>\n",
       "</div>"
      ],
      "text/plain": [
       "                      Movie Name Director Name  Duration  Year  Rating  \\\n",
       "1584                    Æon Flux  Karyn Kusama        93  2005     5.4   \n",
       "1719     xXx: State of the Union  Lee Tamahori       101  2005     4.5   \n",
       "1633  xXx: Return of Xander Cage   D.J. Caruso       107  2017     5.2   \n",
       "1394                         xXx     Rob Cohen       124  2002     5.8   \n",
       "1699                 Zoolander 2   Ben Stiller       101  2016     4.7   \n",
       "\n",
       "      Metascore  \n",
       "1584       36.0  \n",
       "1719       37.0  \n",
       "1633       42.0  \n",
       "1394       48.0  \n",
       "1699       34.0  "
      ]
     },
     "execution_count": 12,
     "metadata": {},
     "output_type": "execute_result"
    }
   ],
   "source": [
    "sorted_df.head()"
   ]
  },
  {
   "cell_type": "markdown",
   "id": "77b23d05",
   "metadata": {},
   "source": [
    "5) Display movie name starts with ‘P’ and their rating is greater than 7."
   ]
  },
  {
   "cell_type": "code",
   "execution_count": 13,
   "id": "41ada12b",
   "metadata": {},
   "outputs": [
    {
     "name": "stdout",
     "output_type": "stream",
     "text": [
      "                                            Movie Name  Rating\n",
      "28                                   Princess Mononoke     8.3\n",
      "55                                    Paan Singh Tomar     8.2\n",
      "57   Pirates of the Caribbean: The Curse of the Bla...     8.1\n",
      "141                                           Predator     7.8\n",
      "237                            Ponniyin Selvan: Part I     7.6\n",
      "240                          Pushpa: The Rise - Part 1     7.6\n",
      "275                                       Police Story     7.5\n",
      "303         Pirates of the Caribbean: Dead Man's Chest     7.4\n",
      "305                                     Predestination     7.4\n",
      "361                                       Patriots Day     7.3\n",
      "384                                        Point Break     7.2\n",
      "439                                               Prey     7.1\n",
      "446           Pirates of the Caribbean: At World's End     7.1\n",
      "474                                            Payback     7.1\n"
     ]
    }
   ],
   "source": [
    "#Filter the DataFrame to include only rows where the movie name starts with 'P' and the rating is greater than 7\n",
    "filtered_df = df[(df['Movie Name'].str.startswith('P')) & (df['Rating'] > 7)]\n",
    "\n",
    "print(filtered_df[['Movie Name', 'Rating']])"
   ]
  },
  {
   "cell_type": "code",
   "execution_count": 14,
   "id": "cfe538c4",
   "metadata": {},
   "outputs": [
    {
     "data": {
      "text/html": [
       "<div>\n",
       "<style scoped>\n",
       "    .dataframe tbody tr th:only-of-type {\n",
       "        vertical-align: middle;\n",
       "    }\n",
       "\n",
       "    .dataframe tbody tr th {\n",
       "        vertical-align: top;\n",
       "    }\n",
       "\n",
       "    .dataframe thead th {\n",
       "        text-align: right;\n",
       "    }\n",
       "</style>\n",
       "<table border=\"1\" class=\"dataframe\">\n",
       "  <thead>\n",
       "    <tr style=\"text-align: right;\">\n",
       "      <th></th>\n",
       "      <th>Movie Name</th>\n",
       "      <th>Director Name</th>\n",
       "      <th>Duration</th>\n",
       "      <th>Year</th>\n",
       "      <th>Rating</th>\n",
       "      <th>Metascore</th>\n",
       "    </tr>\n",
       "  </thead>\n",
       "  <tbody>\n",
       "    <tr>\n",
       "      <th>28</th>\n",
       "      <td>Princess Mononoke</td>\n",
       "      <td>Hayao Miyazaki</td>\n",
       "      <td>134</td>\n",
       "      <td>1997</td>\n",
       "      <td>8.3</td>\n",
       "      <td>76.0</td>\n",
       "    </tr>\n",
       "    <tr>\n",
       "      <th>55</th>\n",
       "      <td>Paan Singh Tomar</td>\n",
       "      <td>Tigmanshu Dhulia</td>\n",
       "      <td>135</td>\n",
       "      <td>2012</td>\n",
       "      <td>8.2</td>\n",
       "      <td>NaN</td>\n",
       "    </tr>\n",
       "    <tr>\n",
       "      <th>57</th>\n",
       "      <td>Pirates of the Caribbean: The Curse of the Bla...</td>\n",
       "      <td>Gore Verbinski</td>\n",
       "      <td>143</td>\n",
       "      <td>2003</td>\n",
       "      <td>8.1</td>\n",
       "      <td>63.0</td>\n",
       "    </tr>\n",
       "    <tr>\n",
       "      <th>141</th>\n",
       "      <td>Predator</td>\n",
       "      <td>John McTiernan</td>\n",
       "      <td>107</td>\n",
       "      <td>1987</td>\n",
       "      <td>7.8</td>\n",
       "      <td>47.0</td>\n",
       "    </tr>\n",
       "    <tr>\n",
       "      <th>237</th>\n",
       "      <td>Ponniyin Selvan: Part I</td>\n",
       "      <td>Mani Ratnam</td>\n",
       "      <td>167</td>\n",
       "      <td>2022</td>\n",
       "      <td>7.6</td>\n",
       "      <td>NaN</td>\n",
       "    </tr>\n",
       "  </tbody>\n",
       "</table>\n",
       "</div>"
      ],
      "text/plain": [
       "                                            Movie Name     Director Name  \\\n",
       "28                                   Princess Mononoke    Hayao Miyazaki   \n",
       "55                                    Paan Singh Tomar  Tigmanshu Dhulia   \n",
       "57   Pirates of the Caribbean: The Curse of the Bla...    Gore Verbinski   \n",
       "141                                           Predator    John McTiernan   \n",
       "237                            Ponniyin Selvan: Part I       Mani Ratnam   \n",
       "\n",
       "     Duration  Year  Rating  Metascore  \n",
       "28        134  1997     8.3       76.0  \n",
       "55        135  2012     8.2        NaN  \n",
       "57        143  2003     8.1       63.0  \n",
       "141       107  1987     7.8       47.0  \n",
       "237       167  2022     7.6        NaN  "
      ]
     },
     "execution_count": 14,
     "metadata": {},
     "output_type": "execute_result"
    }
   ],
   "source": [
    "filtered_df.head()"
   ]
  },
  {
   "cell_type": "markdown",
   "id": "cf1a7f19",
   "metadata": {},
   "source": [
    "# Table 2"
   ]
  },
  {
   "cell_type": "markdown",
   "id": "52ea31fb",
   "metadata": {},
   "source": [
    "1) Display all movie names with star Arnold Schwarzenegger in ascending order."
   ]
  },
  {
   "cell_type": "code",
   "execution_count": 16,
   "id": "22608763",
   "metadata": {},
   "outputs": [
    {
     "name": "stdout",
     "output_type": "stream",
     "text": [
      "1742                        Batman & Robin\n",
      "1558                     Collateral Damage\n",
      "695                               Commando\n",
      "574                    Conan the Barbarian\n",
      "1336                   Conan the Destroyer\n",
      "1404                           End of Days\n",
      "1116                                Eraser\n",
      "686                            Escape Plan\n",
      "1095                      Kindergarten Cop\n",
      "873                       Last Action Hero\n",
      "141                               Predator\n",
      "1505                              Raw Deal\n",
      "1223                              Red Heat\n",
      "1653                             Red Sonja\n",
      "1459                              Sabotage\n",
      "9               Terminator 2: Judgment Day\n",
      "1016    Terminator 3: Rise of the Machines\n",
      "1017                    Terminator Genisys\n",
      "1083                 Terminator: Dark Fate\n",
      "1338                           The 6th Day\n",
      "1032                        The Last Stand\n",
      "704                        The Running Man\n",
      "60                          The Terminator\n",
      "259                           Total Recall\n",
      "333                              True Lies\n",
      "Name: Movie Name, dtype: object\n"
     ]
    }
   ],
   "source": [
    "# Filter the DataFrame to include only rows where the star1, star2, star3, or star4 is 'Arnold Schwarzenegger'\n",
    "filtered_df = df1[(df1['Star1'] == 'Arnold Schwarzenegger') |\n",
    "                  (df1['Star2'] == 'Arnold Schwarzenegger') |\n",
    "                  (df1['Star3'] == 'Arnold Schwarzenegger') |\n",
    "                  (df1['Star4'] == 'Arnold Schwarzenegger')]\n",
    "\n",
    "# Create a Series with all movie names that have Arnold Schwarzenegger\n",
    "all_movie_names = pd.concat([filtered_df['Movie Name'],\n",
    "                             filtered_df['Movie Name'],\n",
    "                             filtered_df['Movie Name'],\n",
    "                             filtered_df['Movie Name']])\n",
    "\n",
    "# Sort the movie names in ascending order\n",
    "sorted_movie_names = all_movie_names.sort_values()\n",
    "\n",
    "# Remove duplicates (since the same movie may have Arnold Schwarzenegger in multiple star positions)\n",
    "unique_sorted_movie_names = sorted_movie_names.drop_duplicates()\n",
    "\n",
    "print(unique_sorted_movie_names)"
   ]
  },
  {
   "cell_type": "code",
   "execution_count": 17,
   "id": "c1f9c4f7",
   "metadata": {},
   "outputs": [
    {
     "data": {
      "text/plain": [
       "1742         Batman & Robin\n",
       "1558      Collateral Damage\n",
       "695                Commando\n",
       "574     Conan the Barbarian\n",
       "1336    Conan the Destroyer\n",
       "Name: Movie Name, dtype: object"
      ]
     },
     "execution_count": 17,
     "metadata": {},
     "output_type": "execute_result"
    }
   ],
   "source": [
    "unique_sorted_movie_names.head()"
   ]
  },
  {
   "cell_type": "markdown",
   "id": "c36debcf",
   "metadata": {},
   "source": [
    "2) Display all details of the movie with the highest number of votes."
   ]
  },
  {
   "cell_type": "code",
   "execution_count": 19,
   "id": "268b263c",
   "metadata": {},
   "outputs": [
    {
     "name": "stdout",
     "output_type": "stream",
     "text": [
      "Movie Name          The Dark Knight\n",
      "Votes                       2750867\n",
      "Gross Collection           $534.86M\n",
      "Certification                 PG-13\n",
      "Star1                Christian Bale\n",
      "Star2                  Heath Ledger\n",
      "Star3                 Aaron Eckhart\n",
      "Star4                 Michael Caine\n",
      "Genre1                       Action\n",
      "Genre2                        Crime\n",
      "Genre3                        Drama\n",
      "Name: 0, dtype: object\n"
     ]
    }
   ],
   "source": [
    "# Find the index of the movie with the highest number of votes\n",
    "highest_votes_index = df1['Votes'].idxmax()\n",
    "\n",
    "# Get all details of the movie with the highest number of votes\n",
    "movie_with_highest_votes = df1.loc[highest_votes_index]\n",
    "\n",
    "print(movie_with_highest_votes)"
   ]
  },
  {
   "cell_type": "markdown",
   "id": "6fd30c40",
   "metadata": {},
   "source": [
    "3) Display movie names with gross collections in descending order."
   ]
  },
  {
   "cell_type": "code",
   "execution_count": 20,
   "id": "8a4eb881",
   "metadata": {},
   "outputs": [
    {
     "name": "stdout",
     "output_type": "stream",
     "text": [
      "                 Movie Name Gross Collection\n",
      "881      Olympus Has Fallen          $98.93M\n",
      "1409       The Green Hornet          $98.78M\n",
      "1729       Inspector Gadget          $97.40M\n",
      "528          Public Enemies          $97.10M\n",
      "647         The Book of Eli          $94.84M\n",
      "...                     ...              ...\n",
      "1765          The Prototype              NaN\n",
      "1767                  Radhe              NaN\n",
      "1769      Angels Apocalypse              NaN\n",
      "1770  The Cost of Deception              NaN\n",
      "1771                Sadak 2              NaN\n",
      "\n",
      "[1772 rows x 2 columns]\n"
     ]
    }
   ],
   "source": [
    "# Sort the DataFrame by Gross Collection in descending order\n",
    "sorted_df = df1.sort_values(by='Gross Collection', ascending=False)\n",
    "\n",
    "# Select and display only the Movie Name and Gross Collection columns\n",
    "movie_names_with_gross = sorted_df[['Movie Name', 'Gross Collection']]\n",
    "\n",
    "print(movie_names_with_gross)"
   ]
  },
  {
   "cell_type": "markdown",
   "id": "98e78c02",
   "metadata": {},
   "source": [
    "4) Display the gross collection of movies with the star Arnold."
   ]
  },
  {
   "cell_type": "code",
   "execution_count": 21,
   "id": "821ff0a9",
   "metadata": {},
   "outputs": [
    {
     "name": "stdout",
     "output_type": "stream",
     "text": [
      "                              Movie Name Gross Collection\n",
      "9             Terminator 2: Judgment Day         $204.84M\n",
      "60                        The Terminator          $38.40M\n",
      "141                             Predator          $59.74M\n",
      "259                         Total Recall         $119.39M\n",
      "333                            True Lies         $146.28M\n",
      "574                  Conan the Barbarian          $39.57M\n",
      "686                          Escape Plan          $25.13M\n",
      "695                             Commando          $35.10M\n",
      "704                      The Running Man          $38.12M\n",
      "873                     Last Action Hero          $50.02M\n",
      "1016  Terminator 3: Rise of the Machines         $150.37M\n",
      "1017                  Terminator Genisys          $89.76M\n",
      "1032                      The Last Stand          $12.05M\n",
      "1083               Terminator: Dark Fate          $62.25M\n",
      "1095                    Kindergarten Cop          $91.46M\n",
      "1116                              Eraser         $101.30M\n",
      "1223                            Red Heat          $34.99M\n",
      "1336                 Conan the Destroyer          $31.04M\n",
      "1338                         The 6th Day          $34.60M\n",
      "1404                         End of Days          $66.89M\n",
      "1459                            Sabotage          $10.51M\n",
      "1505                            Raw Deal          $16.21M\n",
      "1558                   Collateral Damage          $40.08M\n",
      "1653                           Red Sonja           $6.95M\n",
      "1742                      Batman & Robin         $107.33M\n"
     ]
    }
   ],
   "source": [
    "# Filter the DataFrame to include only rows where Star1 is 'Arnold Schwarzenegger' or Star2 is 'Arnold Schwarzenegger'\n",
    "arnold_movies_df = df1[(df1['Star1'] == 'Arnold Schwarzenegger') | (df1['Star2'] == 'Arnold Schwarzenegger')]\n",
    "\n",
    "# Select and display the Movie Name and Gross Collection columns\n",
    "arnold_movies_gross = arnold_movies_df[['Movie Name', 'Gross Collection']]\n",
    "\n",
    "print(arnold_movies_gross)"
   ]
  },
  {
   "cell_type": "markdown",
   "id": "04718525",
   "metadata": {},
   "source": [
    "5) Display all details of movies with comedy and action genres."
   ]
  },
  {
   "cell_type": "code",
   "execution_count": 22,
   "id": "40f28ff0",
   "metadata": {},
   "outputs": [
    {
     "name": "stdout",
     "output_type": "stream",
     "text": [
      "                               Movie Name   Votes Gross Collection  \\\n",
      "47                     Gangs of Wasseypur  100012              NaN   \n",
      "52                           Sherlock Jr.   53328           $0.98M   \n",
      "56         Guardians of the Galaxy Vol. 3  235307              NaN   \n",
      "65    Lock, Stock and Two Smoking Barrels  598927           $3.90M   \n",
      "70                      Bajrangi Bhaijaan   92851           $8.18M   \n",
      "...                                   ...     ...              ...   \n",
      "1767                                Radhe  179087              NaN   \n",
      "1768                               Race 3   47849           $1.69M   \n",
      "1769                    Angels Apocalypse   42920              NaN   \n",
      "1770                The Cost of Deception   39608              NaN   \n",
      "1771                              Sadak 2   96367              NaN   \n",
      "\n",
      "     Certification              Star1                Star2  \\\n",
      "47       Not Rated     Manoj Bajpayee  Nawazuddin Siddiqui   \n",
      "52          Passed      Buster Keaton      Kathryn McGuire   \n",
      "56           PG-13        Chris Pratt       Chukwudi Iwuji   \n",
      "65               R      Jason Flemyng      Dexter Fletcher   \n",
      "70       Not Rated      Mehmet Tutkun          Salman Khan   \n",
      "...            ...                ...                  ...   \n",
      "1767         TV-MA        Salman Khan         Disha Patani   \n",
      "1768     Not Rated        Anil Kapoor          Salman Khan   \n",
      "1769           NaN      Enzo Zelocchi        Enzo Zelocchi   \n",
      "1770           NaN  Vivianne Bánovits         András Mózes   \n",
      "1771         TV-MA         Alia Bhatt        Priyanka Bose   \n",
      "\n",
      "                   Star3                 Star4  Genre1     Genre2    Genre3  \n",
      "47      Tigmanshu Dhulia          Richa Chadha  Action     Comedy     Crime  \n",
      "52            Joe Keaton        Erwin Connelly  Action     Comedy   Romance  \n",
      "56        Bradley Cooper       Pom Klementieff  Action  Adventure    Comedy  \n",
      "65            Nick Moran         Jason Statham  Action     Comedy     Crime  \n",
      "70    Harshaali Malhotra   Nawazuddin Siddiqui  Action  Adventure    Comedy  \n",
      "...                  ...                   ...     ...        ...       ...  \n",
      "1767       Randeep Hooda         Jackie Shroff  Action      Crime  Thriller  \n",
      "1768          Bobby Deol  Jacqueline Fernandez  Action      Crime  Thriller  \n",
      "1769       Jana Rochelle     Ryan C.F. Buckley  Action    Fantasy    Sci-Fi  \n",
      "1770         Barna Bokor       Gabriella Gubás  Action      Crime     Drama  \n",
      "1771         Sanjay Dutt     Aditya Roy Kapoor  Action      Drama       NaN  \n",
      "\n",
      "[1772 rows x 11 columns]\n"
     ]
    }
   ],
   "source": [
    "# Filter the DataFrame to include rows where Genre1 is 'Comedy' or Genre2 is 'Comedy'\n",
    "comedy_movies_df = df1[(df1['Genre1'] == 'Comedy') | (df1['Genre2'] == 'Comedy') | (df1['Genre3'] == 'Comedy')]\n",
    "\n",
    "# Filter the DataFrame to include rows where Genre1 is 'Action' or Genre2 is 'Action'\n",
    "action_movies_df = df1[(df1['Genre1'] == 'Action') | (df1['Genre2'] == 'Action') | (df1['Genre3'] == 'Action')]\n",
    "\n",
    "# Concatenate the two DataFrames to get all details of movies with comedy and action genres\n",
    "comedy_action_movies_df = pd.concat([comedy_movies_df, action_movies_df])\n",
    "\n",
    "# Drop any duplicate rows that may result from the concatenation\n",
    "comedy_action_movies_df.drop_duplicates(inplace=True)\n",
    "\n",
    "print(comedy_action_movies_df)"
   ]
  },
  {
   "cell_type": "markdown",
   "id": "3590470c",
   "metadata": {},
   "source": [
    "# Merging all tables"
   ]
  },
  {
   "cell_type": "markdown",
   "id": "f1f51405",
   "metadata": {},
   "source": [
    "1) Display all details from both tables where movie names are the same."
   ]
  },
  {
   "cell_type": "code",
   "execution_count": 24,
   "id": "cc61fbd3",
   "metadata": {},
   "outputs": [
    {
     "name": "stdout",
     "output_type": "stream",
     "text": [
      "                                             Movie Name       Director Name  \\\n",
      "0                                       The Dark Knight   Christopher Nolan   \n",
      "1         The Lord of the Rings: The Return of the King       Peter Jackson   \n",
      "2                   Spider-Man: Across the Spider-Verse  Joaquim Dos Santos   \n",
      "3                                             Inception   Christopher Nolan   \n",
      "4     The Lord of the Rings: The Fellowship of the Ring       Peter Jackson   \n",
      "...                                                 ...                 ...   \n",
      "1839                                              Radhe         Prabhu Deva   \n",
      "1840                                             Race 3        Remo D'Souza   \n",
      "1841                                  Angels Apocalypse           Sean Cain   \n",
      "1842                              The Cost of Deception       Keith English   \n",
      "1843                                            Sadak 2        Mahesh Bhatt   \n",
      "\n",
      "     Duration  Year  Rating  Metascore    Votes Gross Collection  \\\n",
      "0     152 min  2008     9.0       84.0  2750867         $534.86M   \n",
      "1     201 min  2003     9.0       94.0  1902861         $377.85M   \n",
      "2     140 min  2023     8.9       86.0   195285              NaN   \n",
      "3     148 min  2010     8.8       74.0  2441653         $292.58M   \n",
      "4     178 min  2001     8.8       92.0  1931145         $315.54M   \n",
      "...       ...   ...     ...        ...      ...              ...   \n",
      "1839  109 min  2021     1.9        NaN   179087              NaN   \n",
      "1840  160 min  2018     1.9        NaN    47849           $1.69M   \n",
      "1841   85 min  2015     1.6        NaN    42920              NaN   \n",
      "1842  125 min  2021     1.5        NaN    39608              NaN   \n",
      "1843  133 min  2020     1.2        NaN    96367              NaN   \n",
      "\n",
      "     Certification              Star1                 Star2          Star3  \\\n",
      "0            PG-13     Christian Bale          Heath Ledger  Aaron Eckhart   \n",
      "1            PG-13        Elijah Wood       Viggo Mortensen   Ian McKellen   \n",
      "2               PG        Kemp Powers    Justin K. Thompson  Shameik Moore   \n",
      "3            PG-13  Leonardo DiCaprio  Joseph Gordon-Levitt    Elliot Page   \n",
      "4            PG-13        Elijah Wood          Ian McKellen  Orlando Bloom   \n",
      "...            ...                ...                   ...            ...   \n",
      "1839         TV-MA        Salman Khan          Disha Patani  Randeep Hooda   \n",
      "1840     Not Rated        Anil Kapoor           Salman Khan     Bobby Deol   \n",
      "1841           NaN      Enzo Zelocchi         Enzo Zelocchi  Jana Rochelle   \n",
      "1842           NaN  Vivianne Bánovits          András Mózes    Barna Bokor   \n",
      "1843         TV-MA         Alia Bhatt         Priyanka Bose    Sanjay Dutt   \n",
      "\n",
      "                     Star4     Genre1     Genre2     Genre3  \n",
      "0            Michael Caine     Action      Crime      Drama  \n",
      "1            Orlando Bloom     Action  Adventure      Drama  \n",
      "2         Hailee Steinfeld  Animation     Action  Adventure  \n",
      "3             Ken Watanabe     Action  Adventure     Sci-Fi  \n",
      "4                Sean Bean     Action  Adventure      Drama  \n",
      "...                    ...        ...        ...        ...  \n",
      "1839         Jackie Shroff     Action      Crime   Thriller  \n",
      "1840  Jacqueline Fernandez     Action      Crime   Thriller  \n",
      "1841     Ryan C.F. Buckley     Action    Fantasy     Sci-Fi  \n",
      "1842       Gabriella Gubás     Action      Crime      Drama  \n",
      "1843     Aditya Roy Kapoor     Action      Drama        NaN  \n",
      "\n",
      "[1844 rows x 16 columns]\n"
     ]
    }
   ],
   "source": [
    "import pandas as pd\n",
    "\n",
    "# Read the data from both files\n",
    "df = pd.read_csv('D:\\Datatrained\\Dataset 1.csv')\n",
    "df1 = pd.read_csv('D:\\Datatrained\\Dataset 2.csv')\n",
    "\n",
    "# Merge the two DataFrames on 'Movie Name'\n",
    "merged_df = pd.merge(df, df1, on='Movie Name', how='inner')\n",
    "\n",
    "print(merged_df)"
   ]
  },
  {
   "cell_type": "markdown",
   "id": "45a7a69a",
   "metadata": {},
   "source": [
    "2)   Display all movie names, Director, ratings, and gross collection where the genre is action."
   ]
  },
  {
   "cell_type": "code",
   "execution_count": 25,
   "id": "3edfe206",
   "metadata": {},
   "outputs": [
    {
     "name": "stdout",
     "output_type": "stream",
     "text": [
      "                                             Movie Name      Director Name  \\\n",
      "0                                       The Dark Knight  Christopher Nolan   \n",
      "1         The Lord of the Rings: The Return of the King      Peter Jackson   \n",
      "3                                             Inception  Christopher Nolan   \n",
      "4     The Lord of the Rings: The Fellowship of the Ring      Peter Jackson   \n",
      "5                 The Lord of the Rings: The Two Towers      Peter Jackson   \n",
      "...                                                 ...                ...   \n",
      "1839                                              Radhe        Prabhu Deva   \n",
      "1840                                             Race 3       Remo D'Souza   \n",
      "1841                                  Angels Apocalypse          Sean Cain   \n",
      "1842                              The Cost of Deception      Keith English   \n",
      "1843                                            Sadak 2       Mahesh Bhatt   \n",
      "\n",
      "      Rating Gross Collection  \n",
      "0        9.0         $534.86M  \n",
      "1        9.0         $377.85M  \n",
      "3        8.8         $292.58M  \n",
      "4        8.8         $315.54M  \n",
      "5        8.8         $342.55M  \n",
      "...      ...              ...  \n",
      "1839     1.9              NaN  \n",
      "1840     1.9           $1.69M  \n",
      "1841     1.6              NaN  \n",
      "1842     1.5              NaN  \n",
      "1843     1.2              NaN  \n",
      "\n",
      "[1772 rows x 4 columns]\n"
     ]
    }
   ],
   "source": [
    "merged_df = pd.merge(df, df1, on='Movie Name', how='left')\n",
    "\n",
    "# Filter the DataFrame to include only rows where the genre is 'Action'\n",
    "action_movies_df = merged_df[merged_df['Genre1'].str.contains('Action', case=False)]\n",
    "\n",
    "# Select the desired columns\n",
    "selected_columns = ['Movie Name', 'Director Name', 'Rating', 'Gross Collection']\n",
    "\n",
    "print(action_movies_df[selected_columns])"
   ]
  },
  {
   "cell_type": "markdown",
   "id": "4b45dd5f",
   "metadata": {},
   "source": [
    "3) Display all details from both tables with the highest gross collection."
   ]
  },
  {
   "cell_type": "code",
   "execution_count": 27,
   "id": "e8da2818",
   "metadata": {},
   "outputs": [
    {
     "name": "stdout",
     "output_type": "stream",
     "text": [
      "Movie Name          Olympus Has Fallen\n",
      "Director Name            Antoine Fuqua\n",
      "Duration                       119 min\n",
      "Year                              2013\n",
      "Rating                             6.5\n",
      "Metascore                         41.0\n",
      "Votes                           285290\n",
      "Gross Collection               $98.93M\n",
      "Certification                        R\n",
      "Star1                    Gerard Butler\n",
      "Star2                    Aaron Eckhart\n",
      "Star3                   Morgan Freeman\n",
      "Star4                   Angela Bassett\n",
      "Genre1                          Action\n",
      "Genre2                        Thriller\n",
      "Genre3                             NaN\n",
      "Name: 911, dtype: object\n"
     ]
    }
   ],
   "source": [
    "# Sort the DataFrame by 'Gross Collection' in descending order\n",
    "merged_df_sorted = merged_df.sort_values(by='Gross Collection', ascending=False)\n",
    "\n",
    "# Get the row with the highest gross collection\n",
    "highest_gross_movie = merged_df_sorted.iloc[0]\n",
    "\n",
    "print(highest_gross_movie)"
   ]
  },
  {
   "cell_type": "markdown",
   "id": "aedb992f",
   "metadata": {},
   "source": [
    "4) Display all details from both tables with the highest ratings"
   ]
  },
  {
   "cell_type": "code",
   "execution_count": 28,
   "id": "ec2aafad",
   "metadata": {},
   "outputs": [
    {
     "name": "stdout",
     "output_type": "stream",
     "text": [
      "Movie Name            The Dark Knight\n",
      "Director Name       Christopher Nolan\n",
      "Duration                      152 min\n",
      "Year                             2008\n",
      "Rating                            9.0\n",
      "Metascore                        84.0\n",
      "Votes                         2750867\n",
      "Gross Collection             $534.86M\n",
      "Certification                   PG-13\n",
      "Star1                  Christian Bale\n",
      "Star2                    Heath Ledger\n",
      "Star3                   Aaron Eckhart\n",
      "Star4                   Michael Caine\n",
      "Genre1                         Action\n",
      "Genre2                          Crime\n",
      "Genre3                          Drama\n",
      "Name: 0, dtype: object\n"
     ]
    }
   ],
   "source": [
    "# Sort the DataFrame by 'Rating' in descending order\n",
    "merged_df_sorted = merged_df.sort_values(by='Rating', ascending=False)\n",
    "\n",
    "# Get the row with the highest rating\n",
    "highest_rated_movie = merged_df_sorted.iloc[0]\n",
    "\n",
    "print(highest_rated_movie)"
   ]
  },
  {
   "cell_type": "markdown",
   "id": "a6911a3c",
   "metadata": {},
   "source": [
    "5) Display all details from both tables with the lowest gross collection and lowest ratings"
   ]
  },
  {
   "cell_type": "code",
   "execution_count": 29,
   "id": "14134782",
   "metadata": {},
   "outputs": [
    {
     "name": "stdout",
     "output_type": "stream",
     "text": [
      "Movie Name                 Wild Card\n",
      "Director Name             Simon West\n",
      "Duration                      92 min\n",
      "Year                            2015\n",
      "Rating                           5.6\n",
      "Metascore                       40.0\n",
      "Votes                          58176\n",
      "Gross Collection              $0.00M\n",
      "Certification                      R\n",
      "Star1                  Jason Statham\n",
      "Star2               Michael Angarano\n",
      "Star3                 Dominik Garcia\n",
      "Star4               Milo Ventimiglia\n",
      "Genre1                        Action\n",
      "Genre2                         Crime\n",
      "Genre3                         Drama\n",
      "Name: 1558, dtype: object\n"
     ]
    }
   ],
   "source": [
    "# Sort the DataFrame by 'Gross Collection' and 'Rating' in ascending order\n",
    "merged_df_sorted = merged_df.sort_values(by=['Gross Collection', 'Rating'])\n",
    "\n",
    "# Get the row with the lowest gross collection and lowest rating\n",
    "lowest_gross_lowest_rating_movie = merged_df_sorted.iloc[0]\n",
    "\n",
    "print(lowest_gross_lowest_rating_movie)"
   ]
  },
  {
   "cell_type": "code",
   "execution_count": null,
   "id": "20fb0d7f",
   "metadata": {},
   "outputs": [],
   "source": []
  }
 ],
 "metadata": {
  "kernelspec": {
   "display_name": "Python 3 (ipykernel)",
   "language": "python",
   "name": "python3"
  },
  "language_info": {
   "codemirror_mode": {
    "name": "ipython",
    "version": 3
   },
   "file_extension": ".py",
   "mimetype": "text/x-python",
   "name": "python",
   "nbconvert_exporter": "python",
   "pygments_lexer": "ipython3",
   "version": "3.9.12"
  }
 },
 "nbformat": 4,
 "nbformat_minor": 5
}
